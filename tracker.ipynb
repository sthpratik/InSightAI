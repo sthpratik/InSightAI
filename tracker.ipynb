{
 "cells": [
  {
   "cell_type": "code",
   "execution_count": 4,
   "metadata": {},
   "outputs": [
    {
     "name": "stdout",
     "output_type": "stream",
     "text": [
      "Requirement already satisfied: opencv-python in /Users/manshres1/miniconda3/lib/python3.12/site-packages (4.11.0.86)\n",
      "Requirement already satisfied: numpy>=1.21.2 in /Users/manshres1/miniconda3/lib/python3.12/site-packages (from opencv-python) (1.26.4)\n",
      "Note: you may need to restart the kernel to use updated packages.\n",
      "Requirement already satisfied: opencv-contrib-python in /Users/manshres1/miniconda3/lib/python3.12/site-packages (4.11.0.86)\n",
      "Requirement already satisfied: numpy>=1.21.2 in /Users/manshres1/miniconda3/lib/python3.12/site-packages (from opencv-contrib-python) (1.26.4)\n",
      "Note: you may need to restart the kernel to use updated packages.\n"
     ]
    }
   ],
   "source": [
    "%pip install opencv-python\n",
    "%pip install opencv-contrib-python\n",
    "\n",
    "import cv2\n",
    "import numpy as np"
   ]
  },
  {
   "cell_type": "code",
   "execution_count": null,
   "metadata": {},
   "outputs": [],
   "source": [
    "def videoTracker(video_path=None):\n",
    "    print(cv2.__version__)\n",
    "    # Open video file or webcam\n",
    "    cap = cv2.VideoCapture(0 if video_path is None else video_path)\n",
    "    cap.set(cv2.CAP_PROP_AUTO_EXPOSURE, 0.75)  # Adjust this value as needed\n",
    "    cap.set(cv2.CAP_PROP_BRIGHTNESS, 0.6)  # Value between 0 and 1\n",
    "    cap.set(cv2.CAP_PROP_CONTRAST, 0.5)    # Adjust contrast\n",
    "    cap.set(cv2.CAP_PROP_SATURATION, 0.5)  # Adjust saturation\n",
    "\n",
    "    \n",
    "    if not cap.isOpened():\n",
    "        print(\"Error: Cannot open video source\")\n",
    "        return\n",
    "\n",
    "    # Read the first frame\n",
    "    ret, frame = cap.read()\n",
    "    if not ret:\n",
    "        print(\"Error: Cannot read video frame\")\n",
    "        cap.release()\n",
    "        return\n",
    "\n",
    "    # Ensure frame is not empty\n",
    "    if frame.size == 0:\n",
    "        print(\"Error: Empty frame received\")\n",
    "        cap.release()\n",
    "        return\n",
    "\n",
    "    # Resize frame if too large (can help with tracking stability)\n",
    "    frame = cv2.resize(frame, (640, 480))\n",
    "\n",
    "\n",
    "    # Select the object to track\n",
    "    bbox = cv2.selectROI(\"Select Object\", frame, fromCenter=False, showCrosshair=True)\n",
    "    cv2.destroyWindow(\"Select Object\")\n",
    "\n",
    "    # Verify bbox is valid\n",
    "    if bbox == (0, 0, 0, 0):\n",
    "        print(\"Error: Invalid bounding box selection\")\n",
    "        cap.release()\n",
    "        return\n",
    "\n",
    "    # Create tracker - try different algorithms\n",
    "    tracker_types = ['CSRT', 'KCF', 'MOSSE', 'MIL']\n",
    "    tracker = None\n",
    "    \n",
    "    for tracker_type in tracker_types:\n",
    "        try:\n",
    "            if tracker_type == 'CSRT':\n",
    "                tracker = cv2.legacy.TrackerCSRT.create()\n",
    "            elif tracker_type == 'KCF':\n",
    "                tracker = cv2.legacy.TrackerKCF.create()\n",
    "            elif tracker_type == 'MOSSE':\n",
    "                tracker = cv2.legacy.TrackerMOSSE.create()\n",
    "            elif tracker_type == 'MIL':\n",
    "                tracker = cv2.legacy.TrackerMIL.create()\n",
    "            \n",
    "            # Try to initialize the tracker\n",
    "            success = tracker.init(frame, bbox)\n",
    "            if success:\n",
    "                print(f\"Successfully initialized {tracker_type} tracker\")\n",
    "                break\n",
    "            else:\n",
    "                print(f\"Failed to initialize {tracker_type} tracker, trying next...\")\n",
    "        except Exception as e:\n",
    "            print(f\"Error with {tracker_type} tracker: {str(e)}\")\n",
    "            continue\n",
    "\n",
    "    if tracker is None or not success:\n",
    "        print(\"Error: Could not initialize any tracker\")\n",
    "        cap.release()\n",
    "        return\n",
    "\n",
    "    while True:\n",
    "        ret, frame = cap.read()\n",
    "        if not ret:\n",
    "            print(\"Frame not read properly.\")\n",
    "            break\n",
    "\n",
    "        # Resize frame to maintain consistency\n",
    "        frame = cv2.resize(frame, (640, 480))\n",
    "\n",
    "        # Update tracker\n",
    "        try:\n",
    "            success, bbox = tracker.update(frame)\n",
    "        except Exception as e:\n",
    "            print(f\"Tracking error: {str(e)}\")\n",
    "            success = False\n",
    "\n",
    "        # Draw bounding box if tracking is successful\n",
    "        if success:\n",
    "            # Convert bbox coordinates to integers\n",
    "            bbox = tuple(map(int, bbox))\n",
    "            # Draw rectangle\n",
    "            cv2.rectangle(frame, (bbox[0], bbox[1]), \n",
    "                         (bbox[0] + bbox[2], bbox[1] + bbox[3]),\n",
    "                         (0, 255, 0), 2)\n",
    "            \n",
    "            # Add text to show tracking status\n",
    "            cv2.putText(frame, \"Tracking\", (20, 30), \n",
    "                       cv2.FONT_HERSHEY_SIMPLEX, 0.75, (0, 255, 0), 2)\n",
    "        else:\n",
    "            # Add text to show tracking lost\n",
    "            cv2.putText(frame, \"Lost\", (20, 30), \n",
    "                       cv2.FONT_HERSHEY_SIMPLEX, 0.75, (0, 0, 255), 2)\n",
    "\n",
    "        # Display the frame\n",
    "        cv2.imshow('Tracking', frame)\n",
    "        \n",
    "        # Break if 'q' is pressed\n",
    "        if cv2.waitKey(1) & 0xFF == ord('q'):\n",
    "            break\n",
    "\n",
    "    # Release resources\n",
    "    cap.release()\n",
    "    cv2.destroyAllWindows()"
   ]
  },
  {
   "cell_type": "code",
   "execution_count": null,
   "metadata": {},
   "outputs": [
    {
     "name": "stdout",
     "output_type": "stream",
     "text": [
      "4.11.0\n",
      "Select a ROI and then press SPACE or ENTER button!\n",
      "Cancel the selection process by pressing c button!\n",
      "Error with CSRT tracker: module 'cv2.legacy' has no attribute 'TrackerCSRT'\n",
      "Error with KCF tracker: module 'cv2.legacy' has no attribute 'TrackerKCF'\n",
      "Error with MOSSE tracker: module 'cv2.legacy' has no attribute 'TrackerMOSSE'\n",
      "Error with MIL tracker: module 'cv2.legacy' has no attribute 'TrackerMedianFlow_create'\n",
      "Error: Could not initialize any tracker\n"
     ]
    },
    {
     "ename": "",
     "evalue": "",
     "output_type": "error",
     "traceback": [
      "\u001b[1;31mThe Kernel crashed while executing code in the current cell or a previous cell. \n",
      "\u001b[1;31mPlease review the code in the cell(s) to identify a possible cause of the failure. \n",
      "\u001b[1;31mClick <a href='https://aka.ms/vscodeJupyterKernelCrash'>here</a> for more info. \n",
      "\u001b[1;31mView Jupyter <a href='command:jupyter.viewOutput'>log</a> for further details."
     ]
    }
   ],
   "source": [
    "videoTracker(0) "
   ]
  },
  {
   "cell_type": "code",
   "execution_count": null,
   "metadata": {},
   "outputs": [],
   "source": []
  }
 ],
 "metadata": {
  "kernelspec": {
   "display_name": "base",
   "language": "python",
   "name": "python3"
  },
  "language_info": {
   "codemirror_mode": {
    "name": "ipython",
    "version": 3
   },
   "file_extension": ".py",
   "mimetype": "text/x-python",
   "name": "python",
   "nbconvert_exporter": "python",
   "pygments_lexer": "ipython3",
   "version": "3.12.2"
  }
 },
 "nbformat": 4,
 "nbformat_minor": 2
}
