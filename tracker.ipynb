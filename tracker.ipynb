{
 "cells": [
  {
   "cell_type": "code",
   "execution_count": 9,
   "metadata": {},
   "outputs": [
    {
     "name": "stdout",
     "output_type": "stream",
     "text": [
      "Requirement already satisfied: opencv-python in /Users/manshres1/miniconda3/lib/python3.12/site-packages (4.11.0.86)\n",
      "Requirement already satisfied: numpy>=1.21.2 in /Users/manshres1/miniconda3/lib/python3.12/site-packages (from opencv-python) (1.26.4)\n",
      "Note: you may need to restart the kernel to use updated packages.\n"
     ]
    }
   ],
   "source": [
    "%pip install opencv-python\n",
    "import cv2\n",
    "import numpy as np\n",
    "\n"
   ]
  },
  {
   "cell_type": "code",
   "execution_count": 12,
   "metadata": {},
   "outputs": [],
   "source": [
    "# Define the desired output video size\n",
    "import cv2.legacy\n",
    "\n",
    "\n",
    "OUTPUT_WIDTH = 640\n",
    "OUTPUT_HEIGHT = 480\n",
    "\n",
    "def videoTracker(video_path=None):\n",
    "    print(cv2.__version__)\n",
    "    # Open video file or webcam\n",
    "    cap = cv2.VideoCapture(0 if video_path is None else video_path)\n",
    "    if not cap.isOpened():\n",
    "        print(\"Error: Cannot open video source\")\n",
    "        return\n",
    "\n",
    "    # Read the first frame\n",
    "    ret, frame = cap.read()\n",
    "    if not ret:\n",
    "        print(\"Error: Cannot read video frame\")\n",
    "        cap.release()\n",
    "        return\n",
    "\n",
    "    # Select the object to track\n",
    "    bbox = cv2.selectROI(\"Select Object\", frame, fromCenter=False, showCrosshair=True)\n",
    "    cv2.destroyWindow(\"Select Object\")\n",
    "\n",
    "    # Initialize tracker\n",
    "    tracker = cv2.TrackerCSRT_create()\n",
    "    success = tracker.init(frame, bbox)\n",
    "    if not success:\n",
    "      print(\"Tracker failed to initialize.\")\n",
    "      return\n",
    "\n",
    "    while True:\n",
    "        ret, frame = cap.read()\n",
    "        if not ret:\n",
    "          print(\"Frame not read properly.\")\n",
    "          break\n",
    "\n",
    "        # Update tracker\n",
    "        success, bbox = tracker.update(frame)\n",
    "        print(f\"Tracking success: {success}, Bbox: {bbox}\")"
   ]
  },
  {
   "cell_type": "code",
   "execution_count": 13,
   "metadata": {},
   "outputs": [
    {
     "name": "stdout",
     "output_type": "stream",
     "text": [
      "4.11.0\n",
      "Select a ROI and then press SPACE or ENTER button!\n",
      "Cancel the selection process by pressing c button!\n"
     ]
    },
    {
     "ename": "AttributeError",
     "evalue": "module 'cv2' has no attribute 'TrackerCSRT_create'",
     "output_type": "error",
     "traceback": [
      "\u001b[0;31m---------------------------------------------------------------------------\u001b[0m",
      "\u001b[0;31mAttributeError\u001b[0m                            Traceback (most recent call last)",
      "Cell \u001b[0;32mIn[13], line 1\u001b[0m\n\u001b[0;32m----> 1\u001b[0m \u001b[43mvideoTracker\u001b[49m\u001b[43m(\u001b[49m\u001b[38;5;124;43m\"\u001b[39;49m\u001b[38;5;124;43mvideo/input.mp4\u001b[39;49m\u001b[38;5;124;43m\"\u001b[39;49m\u001b[43m)\u001b[49m\n",
      "Cell \u001b[0;32mIn[12], line 28\u001b[0m, in \u001b[0;36mvideoTracker\u001b[0;34m(video_path)\u001b[0m\n\u001b[1;32m     25\u001b[0m cv2\u001b[38;5;241m.\u001b[39mdestroyWindow(\u001b[38;5;124m\"\u001b[39m\u001b[38;5;124mSelect Object\u001b[39m\u001b[38;5;124m\"\u001b[39m)\n\u001b[1;32m     27\u001b[0m \u001b[38;5;66;03m# Initialize tracker\u001b[39;00m\n\u001b[0;32m---> 28\u001b[0m tracker \u001b[38;5;241m=\u001b[39m \u001b[43mcv2\u001b[49m\u001b[38;5;241;43m.\u001b[39;49m\u001b[43mTrackerCSRT_create\u001b[49m()\n\u001b[1;32m     29\u001b[0m success \u001b[38;5;241m=\u001b[39m tracker\u001b[38;5;241m.\u001b[39minit(frame, bbox)\n\u001b[1;32m     30\u001b[0m \u001b[38;5;28;01mif\u001b[39;00m \u001b[38;5;129;01mnot\u001b[39;00m success:\n",
      "\u001b[0;31mAttributeError\u001b[0m: module 'cv2' has no attribute 'TrackerCSRT_create'"
     ]
    },
    {
     "ename": "",
     "evalue": "",
     "output_type": "error",
     "traceback": [
      "\u001b[1;31mThe Kernel crashed while executing code in the current cell or a previous cell. \n",
      "\u001b[1;31mPlease review the code in the cell(s) to identify a possible cause of the failure. \n",
      "\u001b[1;31mClick <a href='https://aka.ms/vscodeJupyterKernelCrash'>here</a> for more info. \n",
      "\u001b[1;31mView Jupyter <a href='command:jupyter.viewOutput'>log</a> for further details."
     ]
    }
   ],
   "source": [
    "videoTracker(\"video/input.mp4\")"
   ]
  },
  {
   "cell_type": "code",
   "execution_count": null,
   "metadata": {},
   "outputs": [],
   "source": []
  }
 ],
 "metadata": {
  "kernelspec": {
   "display_name": "base",
   "language": "python",
   "name": "python3"
  },
  "language_info": {
   "codemirror_mode": {
    "name": "ipython",
    "version": 3
   },
   "file_extension": ".py",
   "mimetype": "text/x-python",
   "name": "python",
   "nbconvert_exporter": "python",
   "pygments_lexer": "ipython3",
   "version": "3.12.2"
  }
 },
 "nbformat": 4,
 "nbformat_minor": 2
}
